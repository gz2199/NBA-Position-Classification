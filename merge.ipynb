{
 "cells": [
  {
   "cell_type": "code",
   "execution_count": 4,
   "id": "97b22750",
   "metadata": {},
   "outputs": [
    {
     "name": "stdout",
     "output_type": "stream",
     "text": [
      "Merged file saved to: /Users/james/Desktop/player_data_merged.csv\n",
      "Final shape: (559, 21)\n"
     ]
    }
   ],
   "source": [
    "# merge_info_stats.py\n",
    "\n",
    "import pandas as pd\n",
    "\n",
    "# Load both CSVs from Desktop\n",
    "info_path = \"/Users/james/Desktop/player_info.csv\"\n",
    "stats_path = \"/Users/james/Desktop/player_stats_advanced.csv\"\n",
    "\n",
    "df_info = pd.read_csv(info_path)\n",
    "df_stats = pd.read_csv(stats_path)\n",
    "\n",
    "# Merge on player_id\n",
    "df_merged = pd.merge(df_info, df_stats, on='player_id', how='inner')\n",
    "\n",
    "# Save merged result\n",
    "output_path = \"/Users/james/Desktop/player_data_merged.csv\"\n",
    "df_merged.to_csv(output_path, index=False, quoting=1)\n",
    "\n",
    "print(f\"Merged file saved to: {output_path}\")\n",
    "print(f\"Final shape: {df_merged.shape}\")\n"
   ]
  },
  {
   "cell_type": "code",
   "execution_count": null,
   "id": "6f1878b8",
   "metadata": {},
   "outputs": [],
   "source": []
  }
 ],
 "metadata": {
  "kernelspec": {
   "display_name": "base",
   "language": "python",
   "name": "python3"
  },
  "language_info": {
   "codemirror_mode": {
    "name": "ipython",
    "version": 3
   },
   "file_extension": ".py",
   "mimetype": "text/x-python",
   "name": "python",
   "nbconvert_exporter": "python",
   "pygments_lexer": "ipython3",
   "version": "3.9.13"
  }
 },
 "nbformat": 4,
 "nbformat_minor": 5
}
